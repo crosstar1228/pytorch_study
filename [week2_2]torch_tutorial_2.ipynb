{
  "cells": [
    {
      "cell_type": "markdown",
      "source": [
        "## Pytorch tutorial 2\n",
        "- 기본 modeling, NN layer 쌓기 및 metric 등 `torch.nn`의 모듈 및 기능에 대해 알아봅니다. "
      ],
      "metadata": {
        "id": "wcqtijIcMlG7"
      }
    },
    {
      "cell_type": "code",
      "execution_count": 30,
      "metadata": {
        "id": "JFpYA13POXd2"
      },
      "outputs": [],
      "source": [
        "import os\n",
        "import sys\n",
        "import pandas as pd\n",
        "import numpy as np\n",
        "import torch"
      ]
    },
    {
      "cell_type": "code",
      "execution_count": 31,
      "metadata": {
        "id": "BCyAL3dyOXd6"
      },
      "outputs": [],
      "source": [
        "import torch.nn as nn\n",
        "import torch.nn.functional as F"
      ]
    },
    {
      "cell_type": "markdown",
      "metadata": {
        "id": "j_aD0uLjOXd6"
      },
      "source": [
        "# Pytorch Graph\n",
        "`torch.nn` 모듈은 텐서 그래프를 생성하는 다양한 함수를 제공한다. \n",
        "\n",
        "[OFFICAL DOCUMENT](https://pytorch.org/docs/stable/nn.html)\n",
        "\n",
        "# Table of Contents\n",
        "1. [Container](#Container)\n",
        "2. [Layers](#Layers)\n",
        "3. [Loss](#Loss)\n",
        "4. [추가](#To-Learn-More..)\n",
        "\n",
        "\n"
      ]
    },
    {
      "cell_type": "markdown",
      "metadata": {
        "id": "qD83YOocOXd8"
      },
      "source": [
        "## Container\n",
        "- [OFFICIAL DOC](https://pytorch.org/docs/stable/generated/torch.nn.Module.html#module)"
      ]
    },
    {
      "cell_type": "markdown",
      "metadata": {
        "id": "swW0tvvLOXd9"
      },
      "source": [
        "### `Module` class \n",
        "- Neural Network를 생성할 때 반드시 `Module` 클래스를 부모 클래스로 상속받아야 함\n",
        "- `Module` 부모 클래스의 변수 및 메소드 사용 가능 (ex. `eval()`, `train()`, `parameters()`, `state_dict()`, `to()`)\n",
        "  - `train()` : require_gradient=True 가 됨, backprop이 자동적으로 됨\n",
        "  - `parameters()`: 학습중인 parameter 및 weight 정보 확인\n",
        "  - `to()`) : 학습시 이용할 Processor 선택(CPU or GPU,..)\n",
        "- `forward()` 메소드는 모든 자식클래스에서 반드시 **오버라이딩** 해야함\n",
        "- [출처](https://pytorch.org/docs/stable/generated/torch.nn.Module.html#torch.nn.Module)"
      ]
    },
    {
      "cell_type": "markdown",
      "metadata": {
        "id": "SxmY0tS-OXd9"
      },
      "source": [
        "<img src=\"https://github.com/ChristinaROK/PreOnboarding_AI_assets/blob/36a670a7b6233d5218a495150beb337a899ecb70/week2/week2_2_model.jpeg?raw=true\" alt=\"model\" width=600>\n"
      ]
    },
    {
      "cell_type": "code",
      "execution_count": 32,
      "metadata": {
        "id": "VZKTOfJqOXd-"
      },
      "outputs": [],
      "source": [
        "class Model(nn.Module):\n",
        "    def __init__(self, input_shape):\n",
        "        super(Model, self).__init__()\n",
        "        self.layer1 = nn.Linear(input_shape, 32)\n",
        "        self.layer2 = nn.Linear(32, 64)\n",
        "        self.layer_out = nn.Linear(64,1)\n",
        "        \n",
        "        self.relu = nn.ReLU()\n",
        "\n",
        "    def forward(self, x):\n",
        "        x = self.relu(self.layer1(x))\n",
        "        x = self.relu(self.layer2(x))\n",
        "        x = self.layer_out(x)\n",
        "        return x"
      ]
    },
    {
      "cell_type": "code",
      "execution_count": 33,
      "metadata": {
        "id": "4lgtRKMcOXd_",
        "colab": {
          "base_uri": "https://localhost:8080/"
        },
        "outputId": "c951f867-984e-4add-92e1-17aeed501f94"
      },
      "outputs": [
        {
          "output_type": "stream",
          "name": "stdout",
          "text": [
            "torch.Size([32, 30])\n",
            "torch.Size([32])\n",
            "torch.Size([64, 32])\n",
            "torch.Size([64])\n",
            "torch.Size([1, 64])\n",
            "torch.Size([1])\n",
            "layer1.weight -> size : torch.Size([32, 30])\n",
            "layer1.bias -> size : torch.Size([32])\n",
            "layer2.weight -> size : torch.Size([64, 32])\n",
            "layer2.bias -> size : torch.Size([64])\n",
            "layer_out.weight -> size : torch.Size([1, 64])\n",
            "layer_out.bias -> size : torch.Size([1])\n"
          ]
        }
      ],
      "source": [
        "model = Model(30)\n",
        "\n",
        "for param in model.parameters():\n",
        "    print(param.shape)\n",
        "\n",
        "for name, state in model.state_dict().items():\n",
        "    print(f\"{name} -> size : {state.shape}\")"
      ]
    },
    {
      "cell_type": "code",
      "execution_count": 34,
      "metadata": {
        "id": "9aucu7uHOXeA",
        "colab": {
          "base_uri": "https://localhost:8080/"
        },
        "outputId": "1e0ea529-4b5f-43d9-ebb4-06f3026b18d2"
      },
      "outputs": [
        {
          "output_type": "stream",
          "name": "stdout",
          "text": [
            "cuda\n"
          ]
        },
        {
          "output_type": "execute_result",
          "data": {
            "text/plain": [
              "Model(\n",
              "  (layer1): Linear(in_features=30, out_features=32, bias=True)\n",
              "  (layer2): Linear(in_features=32, out_features=64, bias=True)\n",
              "  (layer_out): Linear(in_features=64, out_features=1, bias=True)\n",
              "  (relu): ReLU()\n",
              ")"
            ]
          },
          "metadata": {},
          "execution_count": 34
        }
      ],
      "source": [
        "device = 'cuda' if torch.cuda.is_available() else 'cpu'\n",
        "print(device)\n",
        "model.to(device)"
      ]
    },
    {
      "cell_type": "markdown",
      "metadata": {
        "id": "caZPdvpqOXeB"
      },
      "source": [
        "### `Sequntial` class\n",
        "- 여러 layer를 연결한 container\n",
        "- 이전 layer의 output이 다음 layer의 input으로 입력됨 (순차적)\n",
        "- [출처](https://pytorch.org/docs/stable/generated/torch.nn.Sequential.html#torch.nn.Sequential)"
      ]
    },
    {
      "cell_type": "code",
      "execution_count": 35,
      "metadata": {
        "id": "ZGphSFCfOXeC"
      },
      "outputs": [],
      "source": [
        "model = nn.Sequential(\n",
        "          nn.Linear(30, 32),\n",
        "          nn.ReLU(),\n",
        "          nn.Linear(32,64),\n",
        "          nn.ReLU(),\n",
        "          nn.Linear(64,1)\n",
        "        )"
      ]
    },
    {
      "cell_type": "code",
      "execution_count": 36,
      "metadata": {
        "id": "HYRuf5fwOXeC",
        "colab": {
          "base_uri": "https://localhost:8080/"
        },
        "outputId": "eaefbde4-3fbd-4cdf-ee8b-664adab67d69"
      },
      "outputs": [
        {
          "output_type": "execute_result",
          "data": {
            "text/plain": [
              "Sequential(\n",
              "  (0): Linear(in_features=30, out_features=32, bias=True)\n",
              "  (1): ReLU()\n",
              "  (2): Linear(in_features=32, out_features=64, bias=True)\n",
              "  (3): ReLU()\n",
              "  (4): Linear(in_features=64, out_features=1, bias=True)\n",
              ")"
            ]
          },
          "metadata": {},
          "execution_count": 36
        }
      ],
      "source": [
        "model.eval()"
      ]
    },
    {
      "cell_type": "markdown",
      "metadata": {
        "id": "wKHmnkicOXeD"
      },
      "source": [
        "## Layers\n",
        "- Linear()\n",
        "    - `input @ weight.T + bias`\n",
        "- LSTM()\n",
        "    - [OFFICAL DOCS](https://pytorch.org/docs/stable/generated/torch.nn.LSTM.html#torch.nn.LSTM) \n",
        "    - nn.LSTM(`input_size`, `hidden_size`)\n",
        "        - nn.LSTM()(`input`, (`h_0`, `c_0`))\n",
        "        - `input` shape: (문장 길이, 배치 사이즈, 단어 엠베딩 사이즈 == input_size)\n",
        "        - `hidden_size` shape: (lstm 개수 * 레이어 수 , 배치 사이즈, 히든 사이즈 == hidden size)\n",
        "    - <img src=\"https://github.com/ChristinaROK/PreOnboarding_AI_assets/blob/36a670a7b6233d5218a495150beb337a899ecb70/week2/week2_2_lstm.png?raw=true\" width=500>\n",
        "    - [출처](https://colah.github.io/posts/2015-08-Understanding-LSTMs/)\n",
        "    "
      ]
    },
    {
      "cell_type": "code",
      "execution_count": 37,
      "metadata": {
        "id": "yK0WSgOGOXeD",
        "colab": {
          "base_uri": "https://localhost:8080/"
        },
        "outputId": "48f7e284-2f6c-487c-d4c5-b5bb8128ef2a"
      },
      "outputs": [
        {
          "output_type": "stream",
          "name": "stdout",
          "text": [
            "W shape: torch.Size([30, 20])\n",
            "bias shape: torch.Size([30])\n"
          ]
        }
      ],
      "source": [
        "model = nn.Linear(20,30) \n",
        "print(f\"W shape: {model.weight.shape}\")\n",
        "print(f\"bias shape: {model.bias.shape}\")"
      ]
    },
    {
      "cell_type": "code",
      "execution_count": 38,
      "metadata": {
        "id": "8sH7oL6tOXeD",
        "colab": {
          "base_uri": "https://localhost:8080/"
        },
        "outputId": "4d11cbf6-6dc5-4074-9b6b-052551bb7138"
      },
      "outputs": [
        {
          "output_type": "stream",
          "name": "stdout",
          "text": [
            "['I', 'love', 'coding', '.', 'Just', 'kidding', '.']\n"
          ]
        }
      ],
      "source": [
        "ex = \"I love coding . Just kidding .\"\n",
        "inputs = ex.split()\n",
        "print(inputs)"
      ]
    },
    {
      "cell_type": "code",
      "execution_count": 39,
      "metadata": {
        "id": "P9mEp504OXeE",
        "colab": {
          "base_uri": "https://localhost:8080/"
        },
        "outputId": "955f265e-39da-4361-909f-56cbcf59a44e"
      },
      "outputs": [
        {
          "output_type": "stream",
          "name": "stdout",
          "text": [
            "1 word : output shape (torch.Size([1, 1, 5])) / hidden state shape (torch.Size([1, 1, 5]))\n",
            "2 word : output shape (torch.Size([1, 1, 5])) / hidden state shape (torch.Size([1, 1, 5]))\n",
            "3 word : output shape (torch.Size([1, 1, 5])) / hidden state shape (torch.Size([1, 1, 5]))\n",
            "4 word : output shape (torch.Size([1, 1, 5])) / hidden state shape (torch.Size([1, 1, 5]))\n",
            "5 word : output shape (torch.Size([1, 1, 5])) / hidden state shape (torch.Size([1, 1, 5]))\n",
            "6 word : output shape (torch.Size([1, 1, 5])) / hidden state shape (torch.Size([1, 1, 5]))\n",
            "7 word : output shape (torch.Size([1, 1, 5])) / hidden state shape (torch.Size([1, 1, 5]))\n",
            "----------------------------------\n",
            "input sequence shape : torch.Size([7, 1, 5])\n",
            "output shape : torch.Size([7, 1, 5])\n",
            "hidden shape : torch.Size([1, 1, 5])\n"
          ]
        }
      ],
      "source": [
        "input_embedding = [torch.randn(1, 5) for _ in range(len(inputs))]\n",
        "\n",
        "lstm = nn.LSTM(5,5) # (input dim, output dim)\n",
        "hidden = (\n",
        "    torch.randn(1,1,5), # (모든 레이어의 lstm 개수, batch size, hidden_size)\n",
        "    torch.randn(1,1,5),\n",
        ")\n",
        "\n",
        "# 한 단어씩 입력\n",
        "for idx, i in enumerate(input_embedding):\n",
        "    out, hidden = lstm(i.view(1,1,-1), hidden)\n",
        "    print(f\"{idx+1} word : output shape ({out.shape}) / hidden state shape ({hidden[0].shape})\")\n",
        "\n",
        "assert out.detach().equal(hidden[0].detach())\n",
        "\n",
        "print(\"----------------------------------\")\n",
        "\n",
        "# sequence를 입력\n",
        "input_embedding = torch.cat(input_embedding).view(len(inputs), 1, -1)\n",
        "print(f\"input sequence shape : {input_embedding.shape}\")\n",
        "hidden = (\n",
        "    torch.randn(1,1,5), # (모든 레이어의 lstm 개수, batch size, hidden_size)\n",
        "    torch.randn(1,1,5),\n",
        ")\n",
        "out, hidden = lstm(input_embedding, hidden)\n",
        "print(f\"output shape : {out.shape}\")\n",
        "print(f\"hidden shape : {hidden[0].shape}\")\n",
        "\n",
        "assert out[-1, : , :].detach().equal(hidden[0][-1, :,:].detach())"
      ]
    },
    {
      "cell_type": "markdown",
      "metadata": {
        "id": "w7W8jXimOXeE"
      },
      "source": [
        "## Activation\n",
        "- nonlinear activations"
      ]
    },
    {
      "cell_type": "code",
      "execution_count": 40,
      "metadata": {
        "id": "f9dWNYeMOXeF",
        "colab": {
          "base_uri": "https://localhost:8080/"
        },
        "outputId": "ccce8cc1-3378-48a8-f739-3a4b1b7e2f88"
      },
      "outputs": [
        {
          "output_type": "execute_result",
          "data": {
            "text/plain": [
              "Softmax(dim=None)"
            ]
          },
          "metadata": {},
          "execution_count": 40
        }
      ],
      "source": [
        "nn.LeakyReLU()\n",
        "nn.ReLU()\n",
        "nn.Sigmoid()\n",
        "nn.GELU()\n",
        "nn.Tanh()\n",
        "nn.Softmax()"
      ]
    },
    {
      "cell_type": "markdown",
      "metadata": {
        "id": "WdLlMN8gOXeF"
      },
      "source": [
        "## Loss\n",
        "- loss = loss_class()\n",
        "    - loss(`y_hat`, `y`)\n",
        "    - `loss().backward()`\n",
        "- Mean Square Error Loss \n",
        "    - <img src=\"https://github.com/ChristinaROK/PreOnboarding_AI_assets/blob/36a670a7b6233d5218a495150beb337a899ecb70/week2/week2_2_mse.png?raw=true\" width=200>\n",
        "- Cross Entropy Loss \n",
        "    - <img src=\"https://github.com/ChristinaROK/PreOnboarding_AI_assets/blob/36a670a7b6233d5218a495150beb337a899ecb70/week2/week2_2_ce.png?raw=true\" width=200>\n",
        "- Binary Cross Entropy Loss \n",
        "    - <img src=\"https://github.com/ChristinaROK/PreOnboarding_AI_assets/blob/36a670a7b6233d5218a495150beb337a899ecb70/week2/week2_2_bce.png?raw=true\" width=500>"
      ]
    },
    {
      "cell_type": "code",
      "execution_count": 41,
      "metadata": {
        "id": "T-E-xUS4OXeF",
        "colab": {
          "base_uri": "https://localhost:8080/"
        },
        "outputId": "01d4325b-5b09-4f3e-a459-c6692220d44f"
      },
      "outputs": [
        {
          "output_type": "execute_result",
          "data": {
            "text/plain": [
              "BCEWithLogitsLoss()"
            ]
          },
          "metadata": {},
          "execution_count": 41
        }
      ],
      "source": [
        "# l2 distance loss\n",
        "nn.MSELoss()\n",
        "nn.NLLLoss()\n",
        "\n",
        "# cross entropy\n",
        "## multi class\n",
        "nn.CrossEntropyLoss() # softmax O\n",
        "\n",
        "## binary class\n",
        "nn.BCELoss()\n",
        "nn.BCEWithLogitsLoss() # sigmoid O + BCELoss()"
      ]
    },
    {
      "cell_type": "code",
      "execution_count": 42,
      "metadata": {
        "id": "eyAB7IOHOXeF",
        "colab": {
          "base_uri": "https://localhost:8080/"
        },
        "outputId": "a7b6ce71-137c-4429-b867-9d104e5f21bd"
      },
      "outputs": [
        {
          "output_type": "stream",
          "name": "stdout",
          "text": [
            "Logits : tensor([[ 0.6922, -0.2898,  1.9678, -0.7601, -0.5966],\n",
            "        [ 0.6723,  0.2559, -0.1515,  0.3215,  0.8197],\n",
            "        [ 0.0351,  0.2557,  0.5999, -0.6656, -0.1431]], requires_grad=True)\n",
            "Target: tensor([3, 1, 4])\n",
            "Loss : 2.265610933303833\n"
          ]
        }
      ],
      "source": [
        "batch_size = 3\n",
        "C = 5\n",
        "logits = torch.randn(batch_size, C, requires_grad=True)\n",
        "print(f\"Logits : {logits}\")\n",
        "\n",
        "loss = nn.CrossEntropyLoss()\n",
        "\n",
        "target = torch.empty(batch_size, dtype = torch.long).random_(C)\n",
        "print(f\"Target: {target}\")\n",
        "\n",
        "loss = loss(logits, target)\n",
        "print(f\"Loss : {loss}\")\n",
        "\n",
        "loss.backward()"
      ]
    },
    {
      "cell_type": "markdown",
      "metadata": {
        "id": "qFXZ_5iyOXeF"
      },
      "source": [
        "## To Learn More..."
      ]
    },
    {
      "cell_type": "code",
      "source": [
        "# dropout\n",
        "nn.Dropout()\n",
        "# normalization\n",
        "nn.BatchNorm1d()"
      ],
      "metadata": {
        "id": "FbgzbPy-OWK6"
      },
      "execution_count": null,
      "outputs": []
    },
    {
      "cell_type": "code",
      "execution_count": null,
      "metadata": {
        "id": "ob1cZqEuOXeG"
      },
      "outputs": [],
      "source": [
        "# gradient clipping\n",
        "nn.utils.clip_grad()\n",
        "# weight normalizing\n",
        "nn.utils.weight_norm()"
      ]
    },
    {
      "cell_type": "markdown",
      "metadata": {
        "id": "d5XCnZIaOXeG"
      },
      "source": [
        "### Parallel\n",
        "- 여러 gpu, 또는 여러 머신에서 입력 데이터를 분산 처리를 가능하게 함"
      ]
    },
    {
      "cell_type": "code",
      "execution_count": null,
      "metadata": {
        "id": "Qw5inpiAOXeG"
      },
      "outputs": [],
      "source": [
        "nn.DataParallel()\n",
        "nn.parallel.DistributedDataParallel()"
      ]
    },
    {
      "cell_type": "markdown",
      "source": [
        "# [Appendix]\n",
        "### 오버라이딩이란?\n",
        "\n",
        "![image.png](data:image/png;base64,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)\n",
        "\n",
        "- 자식클래스에서 부모클래스의 메소드명과 같은 메소드를 정의해줌으로서 새로운 기능을 정의해 줌. \n",
        "\n"
      ],
      "metadata": {
        "id": "pdH0JfRa5JPR"
      }
    },
    {
      "cell_type": "code",
      "source": [
        "class Thought(object):\n",
        "    def __init__(self):\n",
        "        pass\n",
        "    def message(self):\n",
        "        print (\"I feel like I am diagonally parked in a parallel universe.\")\n",
        "\n",
        "\n",
        "\n",
        "class Advice(Thought):\n",
        "    def __init__(self):\n",
        "        super(Advice, self).__init__()\n",
        "    @classmethod\n",
        "    def message(self):\n",
        "        print (\"Warning: Dates in calendar are closer than they appear\")\n",
        "        super(Advice, self).message(self) # 부모클래스 호출하는 법\n",
        "\n",
        "Advice().message()"
      ],
      "metadata": {
        "id": "Zd2p0kvl5u8S"
      },
      "execution_count": null,
      "outputs": []
    },
    {
      "cell_type": "markdown",
      "source": [
        "### Statismethod, Classmethod\n",
        "`@staticmethod` : 상속되면 부모 클래스 parameter(method, attribute)를 따름\n",
        "`@classmethod` : 자식클래스 parameter(method, attribute)를 따름"
      ],
      "metadata": {
        "id": "5mZ7g-zM_yxo"
      }
    },
    {
      "cell_type": "code",
      "source": [
        "class foo:\n",
        "  name='foo'\n",
        "  @staticmethod\n",
        "  def get_name_static():\n",
        "    return foo.name\n",
        "  @classmethod\n",
        "  def get_name_class(cls):\n",
        "    return cls.name\n",
        "foo.get_name_static(), foo.get_name_class()"
      ],
      "metadata": {
        "id": "MAzGPEDf9fDP"
      },
      "execution_count": null,
      "outputs": []
    },
    {
      "cell_type": "code",
      "source": [
        "class foofoo(foo):\n",
        "  name='foofoo'\n",
        "foofoo.get_name_static(), foofoo.get_name_class()"
      ],
      "metadata": {
        "id": "aPCoaAhl_WBS"
      },
      "execution_count": null,
      "outputs": []
    }
  ],
  "metadata": {
    "interpreter": {
      "hash": "cc8ea02fb777342a894a6da130bb5db32fa16020fe93af80059107733690b37d"
    },
    "kernelspec": {
      "display_name": "Python 3",
      "name": "python3"
    },
    "language_info": {
      "name": "python"
    },
    "colab": {
      "name": "[week2-2]torch_tutorial_2.ipynb",
      "provenance": [],
      "collapsed_sections": []
    },
    "accelerator": "GPU"
  },
  "nbformat": 4,
  "nbformat_minor": 0
}
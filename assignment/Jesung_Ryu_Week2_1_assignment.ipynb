{
  "cells": [
    {
      "cell_type": "markdown",
      "metadata": {
        "id": "Hg3yVV-zjev_"
      },
      "source": [
        "# Week2_1 Assignment\n",
        "\n",
        "# [BASIC](#Basic)\n",
        "- BERT 모델의 hidden state에서 **특정 단어의 embedding을 여러 방식으로 추출 및 생성**할 수 있다.\n",
        "\n",
        "# [CHALLENGE](#Challenge)\n",
        "- **cosine similarity 함수를 구현**할 수 있다. \n",
        "- **단어들의 유사도**를 cosine similarity로 비교할 수 있다. \n",
        "\n",
        "# [ADVANCED](#Advanced)\n",
        "- 문장 embedding을 구해 **문장 간 유사도**를 구할 수 있다.\n",
        "\n",
        "### Reference\n",
        "- [BERT word embedding & sentence embedding tutorial 영문 블로그](https://mccormickml.com/2019/05/14/BERT-word-embeddings-tutorial/#33-creating-word-and-sentence-vectors-from-hidden-states)"
      ]
    },
    {
      "cell_type": "code",
      "execution_count": null,
      "metadata": {
        "id": "audBCE5fjSMC"
      },
      "outputs": [],
      "source": [
        "import os\n",
        "import sys\n",
        "import pandas as pd\n",
        "import numpy as np \n",
        "import torch\n",
        "import random"
      ]
    },
    {
      "cell_type": "markdown",
      "metadata": {
        "id": "T03wL1uH1HHb"
      },
      "source": [
        "## Basic"
      ]
    },
    {
      "cell_type": "markdown",
      "metadata": {
        "id": "cvJncy-fjkUV"
      },
      "source": [
        "### BERT 모델과 토크나이저 로드   \n",
        "- 두 사람의 대화에서 (단어 및 문장의) embedding을 생성하고자 한다. 아래 대화를 BERT 모델에 입력해 출력값 중 \"hidden states\"값을 가져오자.\n",
        "- `Hidden States`는 3차원 텐서를 가지고 있는 list 타입이다. List에는 BERT 모델의 각 layer마다의 hidden state 3차원 텐서를 갖고 있으며 각 텐서는 (batch_size, sequence_length, hidden_size) shape을 가진다. BERT-base 모델은 12 layer를 갖고 있고 이와 별도로 Embedding Layer 1개를 더 갖고 있기 때문에 `len(hidden states)`는 13개가 된다. \n",
        "    - batch_size: 학습 시 설정한 배치 사이즈. 또는 BERT 모델에 입력된 문장의 개수\n",
        "    - sequence_length: 문장의 token의 개수. \n",
        "    - hidden size: token의 embedding size \n",
        "- Reference\n",
        "    - [BertTokenizer.tokenize() 함수의 매개변수 설명](https://huggingface.co/transformers/v3.0.2/main_classes/tokenizer.html#transformers.PreTrainedTokenizer.__call__)\n",
        "    - [BERTModel.forward() 함수의 매개변수 및 리턴 값 설명](https://huggingface.co/docs/transformers/model_doc/bert#transformers.BertModel.forward)"
      ]
    },
    {
      "cell_type": "code",
      "execution_count": null,
      "metadata": {
        "id": "bcmmeNkujk0x",
        "colab": {
          "base_uri": "https://localhost:8080/"
        },
        "outputId": "ffe4644f-7b81-49ee-8169-e9b69477349f"
      },
      "outputs": [
        {
          "output_type": "stream",
          "name": "stdout",
          "text": [
            "Collecting transformers\n",
            "  Downloading transformers-4.16.2-py3-none-any.whl (3.5 MB)\n",
            "\u001b[K     |████████████████████████████████| 3.5 MB 8.2 MB/s \n",
            "\u001b[?25hCollecting huggingface-hub<1.0,>=0.1.0\n",
            "  Downloading huggingface_hub-0.4.0-py3-none-any.whl (67 kB)\n",
            "\u001b[K     |████████████████████████████████| 67 kB 6.0 MB/s \n",
            "\u001b[?25hRequirement already satisfied: numpy>=1.17 in /usr/local/lib/python3.7/dist-packages (from transformers) (1.21.5)\n",
            "Collecting sacremoses\n",
            "  Downloading sacremoses-0.0.47-py2.py3-none-any.whl (895 kB)\n",
            "\u001b[K     |████████████████████████████████| 895 kB 39.5 MB/s \n",
            "\u001b[?25hRequirement already satisfied: filelock in /usr/local/lib/python3.7/dist-packages (from transformers) (3.6.0)\n",
            "Requirement already satisfied: packaging>=20.0 in /usr/local/lib/python3.7/dist-packages (from transformers) (21.3)\n",
            "Requirement already satisfied: requests in /usr/local/lib/python3.7/dist-packages (from transformers) (2.23.0)\n",
            "Requirement already satisfied: importlib-metadata in /usr/local/lib/python3.7/dist-packages (from transformers) (4.11.1)\n",
            "Requirement already satisfied: tqdm>=4.27 in /usr/local/lib/python3.7/dist-packages (from transformers) (4.62.3)\n",
            "Collecting tokenizers!=0.11.3,>=0.10.1\n",
            "  Downloading tokenizers-0.11.5-cp37-cp37m-manylinux_2_12_x86_64.manylinux2010_x86_64.whl (6.8 MB)\n",
            "\u001b[K     |████████████████████████████████| 6.8 MB 36.9 MB/s \n",
            "\u001b[?25hCollecting pyyaml>=5.1\n",
            "  Downloading PyYAML-6.0-cp37-cp37m-manylinux_2_5_x86_64.manylinux1_x86_64.manylinux_2_12_x86_64.manylinux2010_x86_64.whl (596 kB)\n",
            "\u001b[K     |████████████████████████████████| 596 kB 46.0 MB/s \n",
            "\u001b[?25hRequirement already satisfied: regex!=2019.12.17 in /usr/local/lib/python3.7/dist-packages (from transformers) (2019.12.20)\n",
            "Requirement already satisfied: typing-extensions>=3.7.4.3 in /usr/local/lib/python3.7/dist-packages (from huggingface-hub<1.0,>=0.1.0->transformers) (3.10.0.2)\n",
            "Requirement already satisfied: pyparsing!=3.0.5,>=2.0.2 in /usr/local/lib/python3.7/dist-packages (from packaging>=20.0->transformers) (3.0.7)\n",
            "Requirement already satisfied: zipp>=0.5 in /usr/local/lib/python3.7/dist-packages (from importlib-metadata->transformers) (3.7.0)\n",
            "Requirement already satisfied: certifi>=2017.4.17 in /usr/local/lib/python3.7/dist-packages (from requests->transformers) (2021.10.8)\n",
            "Requirement already satisfied: idna<3,>=2.5 in /usr/local/lib/python3.7/dist-packages (from requests->transformers) (2.10)\n",
            "Requirement already satisfied: chardet<4,>=3.0.2 in /usr/local/lib/python3.7/dist-packages (from requests->transformers) (3.0.4)\n",
            "Requirement already satisfied: urllib3!=1.25.0,!=1.25.1,<1.26,>=1.21.1 in /usr/local/lib/python3.7/dist-packages (from requests->transformers) (1.24.3)\n",
            "Requirement already satisfied: click in /usr/local/lib/python3.7/dist-packages (from sacremoses->transformers) (7.1.2)\n",
            "Requirement already satisfied: joblib in /usr/local/lib/python3.7/dist-packages (from sacremoses->transformers) (1.1.0)\n",
            "Requirement already satisfied: six in /usr/local/lib/python3.7/dist-packages (from sacremoses->transformers) (1.15.0)\n",
            "Installing collected packages: pyyaml, tokenizers, sacremoses, huggingface-hub, transformers\n",
            "  Attempting uninstall: pyyaml\n",
            "    Found existing installation: PyYAML 3.13\n",
            "    Uninstalling PyYAML-3.13:\n",
            "      Successfully uninstalled PyYAML-3.13\n",
            "Successfully installed huggingface-hub-0.4.0 pyyaml-6.0 sacremoses-0.0.47 tokenizers-0.11.5 transformers-4.16.2\n"
          ]
        }
      ],
      "source": [
        "# !pip install transformers"
      ]
    },
    {
      "cell_type": "code",
      "execution_count": null,
      "metadata": {
        "id": "GZqEFuRHjgBj"
      },
      "outputs": [],
      "source": [
        "from transformers import BertTokenizer, BertModel"
      ]
    },
    {
      "cell_type": "code",
      "execution_count": null,
      "metadata": {
        "id": "NXyCD5dnjo37",
        "colab": {
          "base_uri": "https://localhost:8080/"
        },
        "outputId": "0c072f3b-a29f-4dd5-9b1a-642eff48c9cd"
      },
      "outputs": [
        {
          "output_type": "stream",
          "name": "stderr",
          "text": [
            "Some weights of the model checkpoint at bert-base-cased were not used when initializing BertModel: ['cls.predictions.bias', 'cls.predictions.decoder.weight', 'cls.predictions.transform.LayerNorm.weight', 'cls.predictions.transform.dense.bias', 'cls.seq_relationship.weight', 'cls.seq_relationship.bias', 'cls.predictions.transform.dense.weight', 'cls.predictions.transform.LayerNorm.bias']\n",
            "- This IS expected if you are initializing BertModel from the checkpoint of a model trained on another task or with another architecture (e.g. initializing a BertForSequenceClassification model from a BertForPreTraining model).\n",
            "- This IS NOT expected if you are initializing BertModel from the checkpoint of a model that you expect to be exactly identical (initializing a BertForSequenceClassification model from a BertForSequenceClassification model).\n"
          ]
        }
      ],
      "source": [
        "tokenizer_bert = BertTokenizer.from_pretrained(\"bert-base-cased\")\n",
        "model_bert = BertModel.from_pretrained(\"bert-base-cased\")"
      ]
    },
    {
      "cell_type": "code",
      "execution_count": null,
      "metadata": {
        "id": "Q-UbcLH4juKA",
        "colab": {
          "base_uri": "https://localhost:8080/"
        },
        "outputId": "05b5af64-cea2-4bc5-a405-53de9d8e850b"
      },
      "outputs": [
        {
          "output_type": "stream",
          "name": "stdout",
          "text": [
            "Normal Person asked: what do you do when you have free time?\n",
            "Nerd answers: I code. code frees my minds, body and soul.\n",
            "Normal Person asked: (what a nerd...) coding?\n",
            "Nerd answers: Yes. coding is the best thing to do in the free time.\n"
          ]
        }
      ],
      "source": [
        "normal_person = [\"what do you do when you have free time?\"]\n",
        "nerd = [\"I code. code frees my minds, body and soul.\"]\n",
        "normal_person.append(\"(what a nerd...) coding?\")\n",
        "nerd.append(\"Yes. coding is the best thing to do in the free time.\")\n",
        "\n",
        "for i in range(len(normal_person)):\n",
        "    print(f\"Normal Person asked: {normal_person[i]}\")\n",
        "    print(f\"Nerd answers: {nerd[i]}\")"
      ]
    },
    {
      "cell_type": "code",
      "execution_count": null,
      "metadata": {
        "id": "KQtKFM-hjvVl",
        "colab": {
          "base_uri": "https://localhost:8080/"
        },
        "outputId": "2714beac-2114-4a7b-f445-ce3e7a74f910"
      },
      "outputs": [
        {
          "output_type": "stream",
          "name": "stdout",
          "text": [
            "torch.Size([2, 28])\n"
          ]
        }
      ],
      "source": [
        "# 매개변수 설명\n",
        "# truncation <- max_len 넘어가지 않도록 자르기\n",
        "# padding <- max(seq_len, max_len) zero padding\n",
        "# return_tensors <- return 2d tensor \n",
        "\n",
        "inputs = tokenizer_bert(\n",
        "    text = normal_person,\n",
        "    text_pair = nerd,\n",
        "    truncation = True,\n",
        "    padding = \"longest\", \n",
        "    return_tensors='pt'\n",
        "    )\n",
        "\n",
        "print(inputs['input_ids'].shape)"
      ]
    },
    {
      "cell_type": "markdown",
      "source": [
        "###output 설명 \n",
        "![](https://images.velog.io/images/crosstar1228/post/2ca6533e-d343-4bbd-9ef0-d87e50ee29af/image.png)\n",
        "- `input_ids` : \n",
        "  - input의 token에 대응되는 id. model로 들어감. \n",
        "  - token embedding에 해당\n",
        "- `token_type_ids`: \n",
        "  - input의 token type. model로 들어감. \n",
        "  - segment embedding에 해당\n",
        "- `attention_mask`: \n",
        "  - 각 token 별 attention에 해당하는 값\n",
        "  - positional embedding에 해당 (확실치 않음)"
      ],
      "metadata": {
        "id": "AhNnJQ3GOlea"
      }
    },
    {
      "cell_type": "code",
      "source": [
        "inputs['input_ids'][0]"
      ],
      "metadata": {
        "colab": {
          "base_uri": "https://localhost:8080/"
        },
        "id": "PWD_bVn0hQeU",
        "outputId": "18c9f3ca-0a2d-4799-f057-014e2041808b"
      },
      "execution_count": null,
      "outputs": [
        {
          "output_type": "execute_result",
          "data": {
            "text/plain": [
              "tensor([  101,  1184,  1202,  1128,  1202,  1165,  1128,  1138,  1714,  1159,\n",
              "          136,   102,   146,  3463,   119,  3463,  1714,  1116,  1139, 10089,\n",
              "          117,  1404,  1105,  3960,   119,   102,     0,     0])"
            ]
          },
          "metadata": {},
          "execution_count": 134
        }
      ]
    },
    {
      "cell_type": "code",
      "source": [
        "inputs['token_type_ids']"
      ],
      "metadata": {
        "colab": {
          "base_uri": "https://localhost:8080/"
        },
        "id": "zWZ1cqQOOKKa",
        "outputId": "a6a85a8b-fea6-487d-851b-f05aba2b359f"
      },
      "execution_count": null,
      "outputs": [
        {
          "output_type": "execute_result",
          "data": {
            "text/plain": [
              "tensor([[0, 0, 0, 0, 0, 0, 0, 0, 0, 0, 0, 0, 1, 1, 1, 1, 1, 1, 1, 1, 1, 1, 1, 1,\n",
              "         1, 1, 0, 0],\n",
              "        [0, 0, 0, 0, 0, 0, 0, 0, 0, 0, 0, 0, 0, 1, 1, 1, 1, 1, 1, 1, 1, 1, 1, 1,\n",
              "         1, 1, 1, 1]])"
            ]
          },
          "metadata": {},
          "execution_count": 135
        }
      ]
    },
    {
      "cell_type": "code",
      "execution_count": null,
      "metadata": {
        "id": "zjua8EtijyJs",
        "colab": {
          "base_uri": "https://localhost:8080/"
        },
        "outputId": "92b80275-39d6-40a7-c09d-64c0b4f67398"
      },
      "outputs": [
        {
          "output_type": "stream",
          "name": "stdout",
          "text": [
            "Coversation 0 -> '[CLS] what do you do when you have free time? [SEP] I code. code frees my minds, body and soul. [SEP] [PAD] [PAD]'\n",
            "Coversation 1 -> '[CLS] ( what a nerd... ) coding? [SEP] Yes. coding is the best thing to do in the free time. [SEP]'\n"
          ]
        }
      ],
      "source": [
        "# decoding : 어떻게 decoding 되는지 확인\n",
        "for i in range(len(inputs['input_ids'])):\n",
        "    print(f\"Coversation {i} -> '{tokenizer_bert.decode(inputs['input_ids'][i])}'\")"
      ]
    },
    {
      "cell_type": "code",
      "execution_count": null,
      "metadata": {
        "id": "ggtYUkbejzBU",
        "colab": {
          "base_uri": "https://localhost:8080/"
        },
        "outputId": "3368bcd5-9716-4d4d-9580-19266f463e8f"
      },
      "outputs": [
        {
          "output_type": "execute_result",
          "data": {
            "text/plain": [
              "[3463]"
            ]
          },
          "metadata": {},
          "execution_count": 137
        }
      ],
      "source": [
        "# \"code\" 단어의 token id(각 단어에게 고유하게 주어진 id)를 출력\n",
        "tokenizer_bert.encode('code', add_special_tokens=False)"
      ]
    },
    {
      "cell_type": "code",
      "execution_count": null,
      "metadata": {
        "id": "XZUxJJxkj0NG",
        "colab": {
          "base_uri": "https://localhost:8080/"
        },
        "outputId": "c7bd87f9-7891-4994-934e-1310b0364182"
      },
      "outputs": [
        {
          "output_type": "stream",
          "name": "stdout",
          "text": [
            "cuda\n"
          ]
        }
      ],
      "source": [
        "if torch.cuda.is_available():\n",
        "    device = torch.device(\"cuda\")\n",
        "else:\n",
        "    device = torch.device(\"cpu\")\n",
        "print(device)"
      ]
    },
    {
      "cell_type": "code",
      "execution_count": null,
      "metadata": {
        "id": "S5TrsQ_Wj09O",
        "colab": {
          "base_uri": "https://localhost:8080/"
        },
        "outputId": "0f0151e9-ab0a-4122-8254-d82b33f439b7"
      },
      "outputs": [
        {
          "output_type": "execute_result",
          "data": {
            "text/plain": [
              "BertModel(\n",
              "  (embeddings): BertEmbeddings(\n",
              "    (word_embeddings): Embedding(28996, 768, padding_idx=0)\n",
              "    (position_embeddings): Embedding(512, 768)\n",
              "    (token_type_embeddings): Embedding(2, 768)\n",
              "    (LayerNorm): LayerNorm((768,), eps=1e-12, elementwise_affine=True)\n",
              "    (dropout): Dropout(p=0.1, inplace=False)\n",
              "  )\n",
              "  (encoder): BertEncoder(\n",
              "    (layer): ModuleList(\n",
              "      (0): BertLayer(\n",
              "        (attention): BertAttention(\n",
              "          (self): BertSelfAttention(\n",
              "            (query): Linear(in_features=768, out_features=768, bias=True)\n",
              "            (key): Linear(in_features=768, out_features=768, bias=True)\n",
              "            (value): Linear(in_features=768, out_features=768, bias=True)\n",
              "            (dropout): Dropout(p=0.1, inplace=False)\n",
              "          )\n",
              "          (output): BertSelfOutput(\n",
              "            (dense): Linear(in_features=768, out_features=768, bias=True)\n",
              "            (LayerNorm): LayerNorm((768,), eps=1e-12, elementwise_affine=True)\n",
              "            (dropout): Dropout(p=0.1, inplace=False)\n",
              "          )\n",
              "        )\n",
              "        (intermediate): BertIntermediate(\n",
              "          (dense): Linear(in_features=768, out_features=3072, bias=True)\n",
              "        )\n",
              "        (output): BertOutput(\n",
              "          (dense): Linear(in_features=3072, out_features=768, bias=True)\n",
              "          (LayerNorm): LayerNorm((768,), eps=1e-12, elementwise_affine=True)\n",
              "          (dropout): Dropout(p=0.1, inplace=False)\n",
              "        )\n",
              "      )\n",
              "      (1): BertLayer(\n",
              "        (attention): BertAttention(\n",
              "          (self): BertSelfAttention(\n",
              "            (query): Linear(in_features=768, out_features=768, bias=True)\n",
              "            (key): Linear(in_features=768, out_features=768, bias=True)\n",
              "            (value): Linear(in_features=768, out_features=768, bias=True)\n",
              "            (dropout): Dropout(p=0.1, inplace=False)\n",
              "          )\n",
              "          (output): BertSelfOutput(\n",
              "            (dense): Linear(in_features=768, out_features=768, bias=True)\n",
              "            (LayerNorm): LayerNorm((768,), eps=1e-12, elementwise_affine=True)\n",
              "            (dropout): Dropout(p=0.1, inplace=False)\n",
              "          )\n",
              "        )\n",
              "        (intermediate): BertIntermediate(\n",
              "          (dense): Linear(in_features=768, out_features=3072, bias=True)\n",
              "        )\n",
              "        (output): BertOutput(\n",
              "          (dense): Linear(in_features=3072, out_features=768, bias=True)\n",
              "          (LayerNorm): LayerNorm((768,), eps=1e-12, elementwise_affine=True)\n",
              "          (dropout): Dropout(p=0.1, inplace=False)\n",
              "        )\n",
              "      )\n",
              "      (2): BertLayer(\n",
              "        (attention): BertAttention(\n",
              "          (self): BertSelfAttention(\n",
              "            (query): Linear(in_features=768, out_features=768, bias=True)\n",
              "            (key): Linear(in_features=768, out_features=768, bias=True)\n",
              "            (value): Linear(in_features=768, out_features=768, bias=True)\n",
              "            (dropout): Dropout(p=0.1, inplace=False)\n",
              "          )\n",
              "          (output): BertSelfOutput(\n",
              "            (dense): Linear(in_features=768, out_features=768, bias=True)\n",
              "            (LayerNorm): LayerNorm((768,), eps=1e-12, elementwise_affine=True)\n",
              "            (dropout): Dropout(p=0.1, inplace=False)\n",
              "          )\n",
              "        )\n",
              "        (intermediate): BertIntermediate(\n",
              "          (dense): Linear(in_features=768, out_features=3072, bias=True)\n",
              "        )\n",
              "        (output): BertOutput(\n",
              "          (dense): Linear(in_features=3072, out_features=768, bias=True)\n",
              "          (LayerNorm): LayerNorm((768,), eps=1e-12, elementwise_affine=True)\n",
              "          (dropout): Dropout(p=0.1, inplace=False)\n",
              "        )\n",
              "      )\n",
              "      (3): BertLayer(\n",
              "        (attention): BertAttention(\n",
              "          (self): BertSelfAttention(\n",
              "            (query): Linear(in_features=768, out_features=768, bias=True)\n",
              "            (key): Linear(in_features=768, out_features=768, bias=True)\n",
              "            (value): Linear(in_features=768, out_features=768, bias=True)\n",
              "            (dropout): Dropout(p=0.1, inplace=False)\n",
              "          )\n",
              "          (output): BertSelfOutput(\n",
              "            (dense): Linear(in_features=768, out_features=768, bias=True)\n",
              "            (LayerNorm): LayerNorm((768,), eps=1e-12, elementwise_affine=True)\n",
              "            (dropout): Dropout(p=0.1, inplace=False)\n",
              "          )\n",
              "        )\n",
              "        (intermediate): BertIntermediate(\n",
              "          (dense): Linear(in_features=768, out_features=3072, bias=True)\n",
              "        )\n",
              "        (output): BertOutput(\n",
              "          (dense): Linear(in_features=3072, out_features=768, bias=True)\n",
              "          (LayerNorm): LayerNorm((768,), eps=1e-12, elementwise_affine=True)\n",
              "          (dropout): Dropout(p=0.1, inplace=False)\n",
              "        )\n",
              "      )\n",
              "      (4): BertLayer(\n",
              "        (attention): BertAttention(\n",
              "          (self): BertSelfAttention(\n",
              "            (query): Linear(in_features=768, out_features=768, bias=True)\n",
              "            (key): Linear(in_features=768, out_features=768, bias=True)\n",
              "            (value): Linear(in_features=768, out_features=768, bias=True)\n",
              "            (dropout): Dropout(p=0.1, inplace=False)\n",
              "          )\n",
              "          (output): BertSelfOutput(\n",
              "            (dense): Linear(in_features=768, out_features=768, bias=True)\n",
              "            (LayerNorm): LayerNorm((768,), eps=1e-12, elementwise_affine=True)\n",
              "            (dropout): Dropout(p=0.1, inplace=False)\n",
              "          )\n",
              "        )\n",
              "        (intermediate): BertIntermediate(\n",
              "          (dense): Linear(in_features=768, out_features=3072, bias=True)\n",
              "        )\n",
              "        (output): BertOutput(\n",
              "          (dense): Linear(in_features=3072, out_features=768, bias=True)\n",
              "          (LayerNorm): LayerNorm((768,), eps=1e-12, elementwise_affine=True)\n",
              "          (dropout): Dropout(p=0.1, inplace=False)\n",
              "        )\n",
              "      )\n",
              "      (5): BertLayer(\n",
              "        (attention): BertAttention(\n",
              "          (self): BertSelfAttention(\n",
              "            (query): Linear(in_features=768, out_features=768, bias=True)\n",
              "            (key): Linear(in_features=768, out_features=768, bias=True)\n",
              "            (value): Linear(in_features=768, out_features=768, bias=True)\n",
              "            (dropout): Dropout(p=0.1, inplace=False)\n",
              "          )\n",
              "          (output): BertSelfOutput(\n",
              "            (dense): Linear(in_features=768, out_features=768, bias=True)\n",
              "            (LayerNorm): LayerNorm((768,), eps=1e-12, elementwise_affine=True)\n",
              "            (dropout): Dropout(p=0.1, inplace=False)\n",
              "          )\n",
              "        )\n",
              "        (intermediate): BertIntermediate(\n",
              "          (dense): Linear(in_features=768, out_features=3072, bias=True)\n",
              "        )\n",
              "        (output): BertOutput(\n",
              "          (dense): Linear(in_features=3072, out_features=768, bias=True)\n",
              "          (LayerNorm): LayerNorm((768,), eps=1e-12, elementwise_affine=True)\n",
              "          (dropout): Dropout(p=0.1, inplace=False)\n",
              "        )\n",
              "      )\n",
              "      (6): BertLayer(\n",
              "        (attention): BertAttention(\n",
              "          (self): BertSelfAttention(\n",
              "            (query): Linear(in_features=768, out_features=768, bias=True)\n",
              "            (key): Linear(in_features=768, out_features=768, bias=True)\n",
              "            (value): Linear(in_features=768, out_features=768, bias=True)\n",
              "            (dropout): Dropout(p=0.1, inplace=False)\n",
              "          )\n",
              "          (output): BertSelfOutput(\n",
              "            (dense): Linear(in_features=768, out_features=768, bias=True)\n",
              "            (LayerNorm): LayerNorm((768,), eps=1e-12, elementwise_affine=True)\n",
              "            (dropout): Dropout(p=0.1, inplace=False)\n",
              "          )\n",
              "        )\n",
              "        (intermediate): BertIntermediate(\n",
              "          (dense): Linear(in_features=768, out_features=3072, bias=True)\n",
              "        )\n",
              "        (output): BertOutput(\n",
              "          (dense): Linear(in_features=3072, out_features=768, bias=True)\n",
              "          (LayerNorm): LayerNorm((768,), eps=1e-12, elementwise_affine=True)\n",
              "          (dropout): Dropout(p=0.1, inplace=False)\n",
              "        )\n",
              "      )\n",
              "      (7): BertLayer(\n",
              "        (attention): BertAttention(\n",
              "          (self): BertSelfAttention(\n",
              "            (query): Linear(in_features=768, out_features=768, bias=True)\n",
              "            (key): Linear(in_features=768, out_features=768, bias=True)\n",
              "            (value): Linear(in_features=768, out_features=768, bias=True)\n",
              "            (dropout): Dropout(p=0.1, inplace=False)\n",
              "          )\n",
              "          (output): BertSelfOutput(\n",
              "            (dense): Linear(in_features=768, out_features=768, bias=True)\n",
              "            (LayerNorm): LayerNorm((768,), eps=1e-12, elementwise_affine=True)\n",
              "            (dropout): Dropout(p=0.1, inplace=False)\n",
              "          )\n",
              "        )\n",
              "        (intermediate): BertIntermediate(\n",
              "          (dense): Linear(in_features=768, out_features=3072, bias=True)\n",
              "        )\n",
              "        (output): BertOutput(\n",
              "          (dense): Linear(in_features=3072, out_features=768, bias=True)\n",
              "          (LayerNorm): LayerNorm((768,), eps=1e-12, elementwise_affine=True)\n",
              "          (dropout): Dropout(p=0.1, inplace=False)\n",
              "        )\n",
              "      )\n",
              "      (8): BertLayer(\n",
              "        (attention): BertAttention(\n",
              "          (self): BertSelfAttention(\n",
              "            (query): Linear(in_features=768, out_features=768, bias=True)\n",
              "            (key): Linear(in_features=768, out_features=768, bias=True)\n",
              "            (value): Linear(in_features=768, out_features=768, bias=True)\n",
              "            (dropout): Dropout(p=0.1, inplace=False)\n",
              "          )\n",
              "          (output): BertSelfOutput(\n",
              "            (dense): Linear(in_features=768, out_features=768, bias=True)\n",
              "            (LayerNorm): LayerNorm((768,), eps=1e-12, elementwise_affine=True)\n",
              "            (dropout): Dropout(p=0.1, inplace=False)\n",
              "          )\n",
              "        )\n",
              "        (intermediate): BertIntermediate(\n",
              "          (dense): Linear(in_features=768, out_features=3072, bias=True)\n",
              "        )\n",
              "        (output): BertOutput(\n",
              "          (dense): Linear(in_features=3072, out_features=768, bias=True)\n",
              "          (LayerNorm): LayerNorm((768,), eps=1e-12, elementwise_affine=True)\n",
              "          (dropout): Dropout(p=0.1, inplace=False)\n",
              "        )\n",
              "      )\n",
              "      (9): BertLayer(\n",
              "        (attention): BertAttention(\n",
              "          (self): BertSelfAttention(\n",
              "            (query): Linear(in_features=768, out_features=768, bias=True)\n",
              "            (key): Linear(in_features=768, out_features=768, bias=True)\n",
              "            (value): Linear(in_features=768, out_features=768, bias=True)\n",
              "            (dropout): Dropout(p=0.1, inplace=False)\n",
              "          )\n",
              "          (output): BertSelfOutput(\n",
              "            (dense): Linear(in_features=768, out_features=768, bias=True)\n",
              "            (LayerNorm): LayerNorm((768,), eps=1e-12, elementwise_affine=True)\n",
              "            (dropout): Dropout(p=0.1, inplace=False)\n",
              "          )\n",
              "        )\n",
              "        (intermediate): BertIntermediate(\n",
              "          (dense): Linear(in_features=768, out_features=3072, bias=True)\n",
              "        )\n",
              "        (output): BertOutput(\n",
              "          (dense): Linear(in_features=3072, out_features=768, bias=True)\n",
              "          (LayerNorm): LayerNorm((768,), eps=1e-12, elementwise_affine=True)\n",
              "          (dropout): Dropout(p=0.1, inplace=False)\n",
              "        )\n",
              "      )\n",
              "      (10): BertLayer(\n",
              "        (attention): BertAttention(\n",
              "          (self): BertSelfAttention(\n",
              "            (query): Linear(in_features=768, out_features=768, bias=True)\n",
              "            (key): Linear(in_features=768, out_features=768, bias=True)\n",
              "            (value): Linear(in_features=768, out_features=768, bias=True)\n",
              "            (dropout): Dropout(p=0.1, inplace=False)\n",
              "          )\n",
              "          (output): BertSelfOutput(\n",
              "            (dense): Linear(in_features=768, out_features=768, bias=True)\n",
              "            (LayerNorm): LayerNorm((768,), eps=1e-12, elementwise_affine=True)\n",
              "            (dropout): Dropout(p=0.1, inplace=False)\n",
              "          )\n",
              "        )\n",
              "        (intermediate): BertIntermediate(\n",
              "          (dense): Linear(in_features=768, out_features=3072, bias=True)\n",
              "        )\n",
              "        (output): BertOutput(\n",
              "          (dense): Linear(in_features=3072, out_features=768, bias=True)\n",
              "          (LayerNorm): LayerNorm((768,), eps=1e-12, elementwise_affine=True)\n",
              "          (dropout): Dropout(p=0.1, inplace=False)\n",
              "        )\n",
              "      )\n",
              "      (11): BertLayer(\n",
              "        (attention): BertAttention(\n",
              "          (self): BertSelfAttention(\n",
              "            (query): Linear(in_features=768, out_features=768, bias=True)\n",
              "            (key): Linear(in_features=768, out_features=768, bias=True)\n",
              "            (value): Linear(in_features=768, out_features=768, bias=True)\n",
              "            (dropout): Dropout(p=0.1, inplace=False)\n",
              "          )\n",
              "          (output): BertSelfOutput(\n",
              "            (dense): Linear(in_features=768, out_features=768, bias=True)\n",
              "            (LayerNorm): LayerNorm((768,), eps=1e-12, elementwise_affine=True)\n",
              "            (dropout): Dropout(p=0.1, inplace=False)\n",
              "          )\n",
              "        )\n",
              "        (intermediate): BertIntermediate(\n",
              "          (dense): Linear(in_features=768, out_features=3072, bias=True)\n",
              "        )\n",
              "        (output): BertOutput(\n",
              "          (dense): Linear(in_features=3072, out_features=768, bias=True)\n",
              "          (LayerNorm): LayerNorm((768,), eps=1e-12, elementwise_affine=True)\n",
              "          (dropout): Dropout(p=0.1, inplace=False)\n",
              "        )\n",
              "      )\n",
              "    )\n",
              "  )\n",
              "  (pooler): BertPooler(\n",
              "    (dense): Linear(in_features=768, out_features=768, bias=True)\n",
              "    (activation): Tanh()\n",
              "  )\n",
              ")"
            ]
          },
          "metadata": {},
          "execution_count": 139
        }
      ],
      "source": [
        "# 입력 데이터와 BERT 모델을 \"GPU\" 장치로 로드함\n",
        "inputs = inputs.to(device)\n",
        "model_bert.to(device)"
      ]
    },
    {
      "cell_type": "markdown",
      "source": [
        "###📌 유의할 점 : hidden state가 왜 12개가 아니고 13개일까?\n",
        "![image.png](data:image/png;base64,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)\n",
        "- https://huggingface.co/docs/transformers/main_classes/output#transformers.modeling_outputs.BaseModelOutput\n",
        "- 첫layer는 feed-forward layer의 embedding output으로서 BERT 모델의 attention이 가지고 있는 hidden layer가 아님. 따라서 제외."
      ],
      "metadata": {
        "id": "CvCPF4wIo2Ek"
      }
    },
    {
      "cell_type": "code",
      "execution_count": null,
      "metadata": {
        "id": "_FGm_9rtj1xw"
      },
      "outputs": [],
      "source": [
        "# 입력 데이터를 BERT 모델에 넣어 출력값을 가져옴\n",
        "outputs = model_bert(\n",
        "    **inputs, \n",
        "    output_hidden_states=True\n",
        "    )"
      ]
    },
    {
      "cell_type": "code",
      "execution_count": null,
      "metadata": {
        "id": "s9jsHuLjj3Sy",
        "colab": {
          "base_uri": "https://localhost:8080/"
        },
        "outputId": "1f267161-722e-464c-cda7-43ce582e6931"
      },
      "outputs": [
        {
          "output_type": "execute_result",
          "data": {
            "text/plain": [
              "odict_keys(['last_hidden_state', 'pooler_output', 'hidden_states'])"
            ]
          },
          "metadata": {},
          "execution_count": 141
        }
      ],
      "source": [
        "outputs.keys()"
      ]
    },
    {
      "cell_type": "code",
      "execution_count": null,
      "metadata": {
        "id": "I0nB31XAj4M_",
        "colab": {
          "base_uri": "https://localhost:8080/"
        },
        "outputId": "7c6bdf99-9d58-46d6-d19d-9a2b60a2380b"
      },
      "outputs": [
        {
          "output_type": "stream",
          "name": "stdout",
          "text": [
            "# layers : 13\n",
            "tensor shape in each layer : torch.Size([2, 28, 768])\n"
          ]
        }
      ],
      "source": [
        "hidden_states = outputs['hidden_states']\n",
        "print(f\"# layers : {len(hidden_states)}\")\n",
        "print(f\"tensor shape in each layer : {hidden_states[-1].shape}\")"
      ]
    },
    {
      "cell_type": "markdown",
      "metadata": {
        "id": "mfy3I4FXj6L_"
      },
      "source": [
        "###  Q1. 1번째 sequence (문장)에서 \"code\"라는 단어의 인덱스를 모두 반환하라.\n",
        "- \"code\" 단어는 총 2개 존재 "
      ]
    },
    {
      "cell_type": "code",
      "execution_count": null,
      "metadata": {
        "id": "_tYG4o_ho1QY",
        "colab": {
          "base_uri": "https://localhost:8080/"
        },
        "outputId": "0efd21cb-c7f5-4335-a1eb-926625981d6b"
      },
      "outputs": [
        {
          "output_type": "stream",
          "name": "stdout",
          "text": [
            "tensor([13, 15], device='cuda:0')\n"
          ]
        }
      ],
      "source": [
        "def get_index(seq, word):\n",
        "  token_num=tokenizer_bert.encode(token, add_special_tokens=False)[0] # 해당 token number encoding\n",
        "  # print(token_num)\n",
        "  # print(seq)\n",
        "  return (seq==token_num).nonzero(as_tuple=True)[0] # 부합하는 token indexing\n",
        "\n",
        "# input\n",
        "# seq1: 1번째 sequence\n",
        "# token: 단어\n",
        "seq1 = inputs['input_ids'][0]\n",
        "token = \"code\"\n",
        "\n",
        "# output\n",
        "token_index = get_index(seq1, token)\n",
        "print(token_index)"
      ]
    },
    {
      "cell_type": "markdown",
      "metadata": {
        "id": "xopkXDS2m6uA"
      },
      "source": [
        "### Q2. 1번째 sequence의 1번째 \"code\" 토큰의 embedding을 여러가지 방식으로 구하고자 한다. BERT hidden state를 다음의 방식으로 인덱싱해 embedding을 구하라\n",
        "- 1 layer\n",
        "- last layer\n",
        "- sum all 12 layers\n",
        "- sum last 4 layers\n",
        "- concat last 4 layers\n",
        "- average last 4 layers"
      ]
    },
    {
      "cell_type": "code",
      "execution_count": null,
      "metadata": {
        "id": "to7IOGNwkmUS",
        "colab": {
          "base_uri": "https://localhost:8080/"
        },
        "outputId": "9abd79ea-2d16-47fb-d1f9-8b08d22d68d3"
      },
      "outputs": [
        {
          "output_type": "stream",
          "name": "stdout",
          "text": [
            "torch.Size([768])\n",
            "torch.Size([768])\n",
            "torch.Size([768])\n",
            "torch.Size([768])\n",
            "torch.Size([3072])\n",
            "torch.Size([768])\n"
          ]
        }
      ],
      "source": [
        "# hidden layer에 대한 indexing은 1부터 시작\n",
        "# 1 layer\n",
        "first_layer_emb = hidden_states[1][0,token_index[0]] # [첫 layer][첫 문장, 첫번째 code의 index]\n",
        "print(first_layer_emb.shape) \n",
        "\n",
        "# last layer\n",
        "last_layer_emb = hidden_states[-1][0,token_index[0]] # [마지막 hidden layer][첫 문장, 첫번째 code의 index] \n",
        "print(last_layer_emb.shape)\n",
        "\n",
        "# sum all 12 layers\n",
        "sum_all_layer_emb = sum(hidden_states[1:])[0,token_index[0]]\n",
        "print(sum_all_layer_emb.shape)\n",
        "\n",
        "# sum last 4 layers\n",
        "sum_last4_layer_emb = sum(hidden_states[-4:])[0,token_index[0]]\n",
        "print(sum_last4_layer_emb.shape)\n",
        "\n",
        "# concat last 4 layers\n",
        "concat_last4_layer_emb = torch.cat(hidden_states[-4:], dim=2)[0,token_index[0]] # embedding vector(dim=2)의 차원을 늘여야 원하는 값을 얻을 수 있음\n",
        "print(concat_last4_layer_emb.shape)\n",
        "\n",
        "# mean last 4 layers\n",
        "mean_last4_layer_emb = (sum(hidden_states[-4:])/4)[0,token_index[0]]\n",
        "print(mean_last4_layer_emb.shape)"
      ]
    },
    {
      "cell_type": "markdown",
      "metadata": {
        "id": "i0-C0J6o1HHl"
      },
      "source": [
        "## Challenge"
      ]
    },
    {
      "cell_type": "markdown",
      "metadata": {
        "id": "H3aI-M5KubYl"
      },
      "source": [
        "### Q3. `sum_last_four_layer` 방식으로 1번째 sequence의 2개의 \"code\" 토큰 사이의 코사인 유사도를 계산하라"
      ]
    },
    {
      "cell_type": "code",
      "execution_count": null,
      "metadata": {
        "id": "twWm2hrrp3qG",
        "colab": {
          "base_uri": "https://localhost:8080/"
        },
        "outputId": "a7847a59-7554-4c99-dd8b-cea373d9907c"
      },
      "outputs": [
        {
          "output_type": "stream",
          "name": "stdout",
          "text": [
            "tensor(0.8427, device='cuda:0', grad_fn=<DivBackward0>)\n"
          ]
        }
      ],
      "source": [
        "def cosine_similarity_manual(x, y, small_number=1e-8):\n",
        "    x_norm=torch.linalg.norm(x)\n",
        "    y_norm=torch.linalg.norm(y)\n",
        "    return torch.dot(x,y)/max(x_norm*y_norm,small_number)\n",
        "\n",
        "# input\n",
        "# x: 1번째 sequence의 1번째 \"code\"의 sum_last_four_layer 방식 embedding\n",
        "# y: 1번째 sequence의 2번째 \"code\"의 sum_last_four_layer 방식 embedding\n",
        "x = sum(hidden_states[-4:])[0,token_index[0]]\n",
        "y = sum(hidden_states[-4:])[0,token_index[1]]\n",
        "\n",
        "# output\n",
        "score = cosine_similarity_manual(x, y)\n",
        "print(score)"
      ]
    },
    {
      "cell_type": "markdown",
      "metadata": {
        "id": "Wfc_1t2Hw8kB"
      },
      "source": [
        "### Q4. 2번째 sequence에서 \"coding\"이라는 토큰의 위치를 반환하라"
      ]
    },
    {
      "cell_type": "code",
      "execution_count": null,
      "metadata": {
        "id": "B_OrrpEgw9pX",
        "colab": {
          "base_uri": "https://localhost:8080/"
        },
        "outputId": "44f2a092-8cb1-47e4-d822-a59ffc188125"
      },
      "outputs": [
        {
          "output_type": "stream",
          "name": "stdout",
          "text": [
            "tensor([10, 15], device='cuda:0')\n"
          ]
        }
      ],
      "source": [
        "# Q1과 동일한 문제 \n",
        "\n",
        "# input\n",
        "# seq2: 2번째 sequence\n",
        "# token: 단어\n",
        "seq2 = inputs['input_ids'][1]\n",
        "token = \"coding\"\n",
        "\n",
        "# output\n",
        "# Q1에서 구현한 함수 사용\n",
        "token_index = get_index(seq2, token)\n",
        "print(token_index)"
      ]
    },
    {
      "cell_type": "markdown",
      "metadata": {
        "id": "c11W2Ht-xIwI"
      },
      "source": [
        "### Q5. `concat_last4_layer_emb` 방식으로 2번째 sequence의 2개의 \"coding\" 토큰 사이의 코사인 유사도를 계산하라"
      ]
    },
    {
      "cell_type": "code",
      "execution_count": null,
      "metadata": {
        "id": "MXr1jtMOxKie",
        "colab": {
          "base_uri": "https://localhost:8080/"
        },
        "outputId": "b449da79-4a6c-4e96-8a59-53b4ab104839"
      },
      "outputs": [
        {
          "output_type": "stream",
          "name": "stdout",
          "text": [
            "tensor(0.8682, device='cuda:0', grad_fn=<DivBackward0>)\n"
          ]
        }
      ],
      "source": [
        "# Q3과 동일한 문제\n",
        "\n",
        "# input\n",
        "# x: 2번째 sequence의 1번째 \"coding\"의 concat_last4_layer_emb\n",
        "# y: 2번째 sequence의 2번째 \"coding\"의 concat_last4_layer_emb\n",
        "\n",
        "x = torch.cat(hidden_states[-4:], dim=2)[1,token_index[0]]\n",
        "y = torch.cat(hidden_states[-4:], dim=2)[1,token_index[1]]\n",
        "\n",
        "# output\n",
        "# Q3에서 구현한 함수 사용\n",
        "score = cosine_similarity_manual(x, y)\n",
        "print(score)"
      ]
    },
    {
      "cell_type": "markdown",
      "metadata": {
        "id": "doBSxlvsxlZp"
      },
      "source": [
        "### Q6. 2번째 sequence에서 랜덤하게 토큰 하나를 뽑아보자. 그 랜덤 토큰과 2번째 sequence의 2번째 \"coding\" 토큰의 코사인 유사도를 계산해보자"
      ]
    },
    {
      "cell_type": "code",
      "execution_count": null,
      "metadata": {
        "id": "PajBEOs5xnOa",
        "colab": {
          "base_uri": "https://localhost:8080/"
        },
        "outputId": "614e6eaf-5957-4139-e4ad-8efe26ee7bfa"
      },
      "outputs": [
        {
          "output_type": "stream",
          "name": "stdout",
          "text": [
            "f r e e\n",
            "similarity score between 'coding' and f r e e:\n",
            "tensor(0.5569, device='cuda:0', grad_fn=<DivBackward0>)\n"
          ]
        }
      ],
      "source": [
        "# input\n",
        "# random_idx: random 모듈 사용하여 뽑은 랜덤 토큰의 인덱스\n",
        "# random_word: random_idx에 해당하는 단어\n",
        "# x: 2번째 sequence의 2번째 \"coding\" 토큰의 concat_last4_layer_emb\n",
        "# y: 랜덤 토큰의 concat_last4_layer_emb\n",
        "\n",
        "random_idx = random.randint(0,len(inputs['input_ids'][1]))\n",
        "# print(len(inputs['input_ids'][1]),random_idx)\n",
        "random_word = tokenizer_bert.decode(inputs['input_ids'][1][random_idx], add_special_tokens=False)\n",
        "print(random_word)\n",
        "x = torch.cat(hidden_states[-4:], dim=2)[1,token_index[1]] # 2번째 coding token\n",
        "y = torch.cat(hidden_states[-4:], dim=2)[1,random_idx] # random index의 token\n",
        "\n",
        "# output\n",
        "# Q3에서 구현한 함수 사용\n",
        "score = cosine_similarity_manual(x, y)\n",
        "print(f'similarity score between \\'coding\\' and {random_word}:')\n",
        "print(score)"
      ]
    },
    {
      "cell_type": "markdown",
      "metadata": {
        "id": "hX9_cFhm1HHm"
      },
      "source": [
        "## Advanced"
      ]
    },
    {
      "cell_type": "markdown",
      "metadata": {
        "id": "ub-hubXwyw9l"
      },
      "source": [
        "### Q7. 1번째 sequence와 2번째 sequence의 문장 유사도를 구해보자. 문장의 엠베딩은 마지막 레이어의 첫번째 토큰 ('[CLS]')으로 생성한다.\n"
      ]
    },
    {
      "cell_type": "code",
      "execution_count": null,
      "metadata": {
        "id": "JpvPDM_Oyx7I",
        "colab": {
          "base_uri": "https://localhost:8080/"
        },
        "outputId": "06e4abc1-b2e3-46bc-ae85-295fcbf44ffc"
      },
      "outputs": [
        {
          "output_type": "stream",
          "name": "stdout",
          "text": [
            "tensor(0.8130, device='cuda:0', grad_fn=<DivBackward0>)\n"
          ]
        }
      ],
      "source": [
        "# input\n",
        "# x: 1번째 sequence의 embedding\n",
        "# y: 2번째 sequence의 embedding\n",
        "x =  hidden_states[-1][0,0] # [마지막 output layer][첫 문장, 첫 토큰]\n",
        "y =  hidden_states[-1][1,0] # [마지막 output layer][두 번째 문장, 첫 토큰]\n",
        "\n",
        "# x =  outputs['last_hidden_state'][0,0] # 위와 같이 bertmodel의 output중 'last_hidden_state'를 indexing해서 해도 결과는 같음\n",
        "# y =  outputs['last_hidden_state'][1,0]\n",
        "\n",
        "# output\n",
        "# Q3에서 구현한 함수 사용\n",
        "score =  cosine_similarity_manual(x, y)\n",
        "print(score)"
      ]
    },
    {
      "cell_type": "markdown",
      "source": [
        ""
      ],
      "metadata": {
        "id": "sbwSgaJY2mcS"
      }
    }
  ],
  "metadata": {
    "colab": {
      "collapsed_sections": [],
      "name": "Jesung Ryu - Week2_1_assignment.ipynb",
      "provenance": []
    },
    "kernelspec": {
      "display_name": "torch",
      "language": "python",
      "name": "torch"
    },
    "language_info": {
      "codemirror_mode": {
        "name": "ipython",
        "version": 3
      },
      "file_extension": ".py",
      "mimetype": "text/x-python",
      "name": "python",
      "nbconvert_exporter": "python",
      "pygments_lexer": "ipython3",
      "version": "3.8.11"
    },
    "accelerator": "GPU"
  },
  "nbformat": 4,
  "nbformat_minor": 0
}
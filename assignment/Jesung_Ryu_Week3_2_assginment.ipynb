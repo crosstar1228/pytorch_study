{
  "cells": [
    {
      "cell_type": "markdown",
      "metadata": {
        "id": "ugGR7pnI4WSe"
      },
      "source": [
        "# Week3_2 Assignment\n",
        "\n",
        "## [BASIC](#Basic) \n",
        "- 한국어 코퍼스를 로드해 **WordPiece Tokenzier를 학습**시킬 수 있다.\n",
        "- 학습된 모델을 로드해 **encoding과 decoding을 수행**할 수 있다. \n",
        "\n",
        "\n",
        "\n",
        "### Reference\n",
        "- [BertWordPieceTokenizer 학습 소개 한국어 블로그](https://monologg.kr/2020/04/27/wordpiece-vocab/)\n",
        "- [huggingface python train tutorial](https://github.com/huggingface/tokenizers/blob/master/bindings/python/examples/train_bert_wordpiece.py)"
      ]
    },
    {
      "cell_type": "code",
      "execution_count": null,
      "metadata": {
        "ExecuteTime": {
          "end_time": "2022-02-08T13:02:24.193088Z",
          "start_time": "2022-02-08T13:02:23.939474Z"
        },
        "id": "HlEy3xfY4WSh"
      },
      "outputs": [],
      "source": [
        "import os \n",
        "import sys\n",
        "import pandas as pd\n",
        "import numpy as np"
      ]
    },
    {
      "cell_type": "code",
      "execution_count": null,
      "metadata": {
        "ExecuteTime": {
          "end_time": "2022-02-08T12:20:56.576336Z",
          "start_time": "2022-02-08T12:20:56.574697Z"
        },
        "id": "cBrr7-gt4jnf",
        "outputId": "33b85812-c081-4e9e-df01-c38cfb47cfbe",
        "colab": {
          "base_uri": "https://localhost:8080/"
        }
      },
      "outputs": [
        {
          "output_type": "stream",
          "name": "stdout",
          "text": [
            "Requirement already satisfied: tokenizers in /usr/local/lib/python3.7/dist-packages (0.11.6)\n"
          ]
        }
      ],
      "source": [
        "!pip install tokenizers"
      ]
    },
    {
      "cell_type": "code",
      "execution_count": null,
      "metadata": {
        "ExecuteTime": {
          "end_time": "2022-02-08T13:03:10.552879Z",
          "start_time": "2022-02-08T13:03:09.944672Z"
        },
        "id": "6mC9lhsJ4WSh"
      },
      "outputs": [],
      "source": [
        "import torch\n",
        "from tokenizers import BertWordPieceTokenizer"
      ]
    },
    {
      "cell_type": "code",
      "execution_count": null,
      "metadata": {
        "ExecuteTime": {
          "end_time": "2022-02-08T13:03:11.318888Z",
          "start_time": "2022-02-08T13:03:11.314522Z"
        },
        "id": "17g7UZ5g4WSi"
      },
      "outputs": [],
      "source": [
        "# seed\n",
        "seed = 7777\n",
        "torch.manual_seed(seed)\n",
        "torch.cuda.manual_seed_all(seed)"
      ]
    },
    {
      "cell_type": "code",
      "execution_count": null,
      "metadata": {
        "ExecuteTime": {
          "end_time": "2022-02-08T13:03:12.552228Z",
          "start_time": "2022-02-08T13:03:12.517904Z"
        },
        "id": "v3UlC7Jn4WSi",
        "outputId": "439fb14e-35d0-4eea-b278-b3a1598d651a",
        "colab": {
          "base_uri": "https://localhost:8080/"
        }
      },
      "outputs": [
        {
          "output_type": "stream",
          "name": "stdout",
          "text": [
            "# available GPUs : 1\n",
            "GPU name : Tesla T4\n",
            "cuda\n"
          ]
        }
      ],
      "source": [
        "# device type\n",
        "if torch.cuda.is_available():\n",
        "    device = torch.device(\"cuda\")\n",
        "    print(f\"# available GPUs : {torch.cuda.device_count()}\")\n",
        "    print(f\"GPU name : {torch.cuda.get_device_name()}\")\n",
        "else:\n",
        "    device = torch.device(\"cpu\")\n",
        "print(device)"
      ]
    },
    {
      "cell_type": "markdown",
      "metadata": {
        "id": "BoHa39WF5AFt"
      },
      "source": [
        "## Basic"
      ]
    },
    {
      "cell_type": "markdown",
      "metadata": {
        "id": "sHs8_LU04WSj"
      },
      "source": [
        "### 데이터 다운로드\n",
        "- 내 구글 드라이브에 데이터를 다운 받은 후 코랩에 드라이브를 마운트하면 데이터를 영구적으로 사용할 수 있다. \n",
        "- [데이터 다운로드 출처](https://ratsgo.github.io/embedding/downloaddata.html)"
      ]
    },
    {
      "cell_type": "code",
      "execution_count": null,
      "metadata": {
        "id": "4TWfB_xf5AFy",
        "outputId": "000ad6aa-c8e1-4e34-d49b-c69f1c367340",
        "colab": {
          "base_uri": "https://localhost:8080/"
        }
      },
      "outputs": [
        {
          "output_type": "stream",
          "name": "stdout",
          "text": [
            "Drive already mounted at /content/drive; to attempt to forcibly remount, call drive.mount(\"/content/drive\", force_remount=True).\n"
          ]
        }
      ],
      "source": [
        "from google.colab import drive\n",
        "drive.mount(\"/content/drive\")"
      ]
    },
    {
      "cell_type": "code",
      "execution_count": null,
      "metadata": {
        "id": "yPoV_wON5AF1",
        "outputId": "e9ab538e-d9e1-4563-b594-1c746de131c8",
        "colab": {
          "base_uri": "https://localhost:8080/"
        }
      },
      "outputs": [
        {
          "output_type": "stream",
          "name": "stdout",
          "text": [
            "/content/drive/MyDrive/[Wanted]week3-2/processed\n"
          ]
        }
      ],
      "source": [
        "# !mkdir /content/week3-2\n",
        "%cd /content/drive/MyDrive/[Wanted]week3-2/processed"
      ]
    },
    {
      "cell_type": "code",
      "execution_count": null,
      "metadata": {
        "ExecuteTime": {
          "end_time": "2022-02-08T13:05:10.693203Z",
          "start_time": "2022-02-08T13:05:05.809566Z"
        },
        "id": "4QPBJ6UZ4WSj"
      },
      "outputs": [],
      "source": [
        "#한국어 위키피디아 데이터 (토크나이즈되지 않은 텍스트) 로드\n",
        "# !pip install gdown\n",
        "# !gdown https://drive.google.com/u/0/uc?id=1kUecR7xO7bsHFmUI6AExtY5u2XXlObOG\n",
        "# !unzip processed"
      ]
    },
    {
      "cell_type": "code",
      "execution_count": null,
      "metadata": {
        "id": "qKjNsKAk5AF5",
        "outputId": "b2bcefc2-9754-4922-993d-c293564f53a2",
        "colab": {
          "base_uri": "https://localhost:8080/"
        }
      },
      "outputs": [
        {
          "output_type": "stream",
          "name": "stdout",
          "text": [
            "My current directory : /content/drive/MyDrive/[Wanted]week3-2/processed\n"
          ]
        }
      ],
      "source": [
        "_CUR_DIR = os.path.abspath(os.curdir)\n",
        "print(f\"My current directory : {_CUR_DIR}\")\n",
        "_DATA_DIR = os.path.join(_CUR_DIR, \"processed\")"
      ]
    },
    {
      "cell_type": "markdown",
      "metadata": {
        "id": "FIO4LFu67z72"
      },
      "source": [
        "### 한국어 위키피디아 코퍼스로 WordPiece tokenizer 학습\n",
        "- 한국어 위키 "
      ]
    },
    {
      "cell_type": "code",
      "execution_count": null,
      "metadata": {
        "ExecuteTime": {
          "end_time": "2022-02-08T13:07:46.216505Z",
          "start_time": "2022-02-08T13:07:41.735392Z"
        },
        "id": "xkjqztIA4WSl"
      },
      "outputs": [],
      "source": [
        "# processed_wiki_ko.txt 파일 불러오기\n",
        "filepath = '/content/drive/MyDrive/[Wanted]week3-2/processed/processed_wiki_ko.txt'\n",
        "with open (filepath, 'r') as f:\n",
        "  docs = f.read().split('\\n')"
      ]
    },
    {
      "cell_type": "code",
      "execution_count": null,
      "metadata": {
        "ExecuteTime": {
          "end_time": "2022-02-08T13:07:55.901375Z",
          "start_time": "2022-02-08T13:07:55.898177Z"
        },
        "id": "WAKB6bbt4WSl",
        "outputId": "642ad81c-99b6-4690-a567-32db69cf4359",
        "colab": {
          "base_uri": "https://localhost:8080/"
        }
      },
      "outputs": [
        {
          "output_type": "stream",
          "name": "stdout",
          "text": [
            "# wiki documents: 311,238\n"
          ]
        }
      ],
      "source": [
        "print(f\"# wiki documents: {len(docs):,}\")"
      ]
    },
    {
      "cell_type": "code",
      "execution_count": null,
      "metadata": {
        "ExecuteTime": {
          "end_time": "2022-02-08T15:04:42.728698Z",
          "start_time": "2022-02-08T15:04:42.725712Z"
        },
        "id": "rsSDiCKC7z73"
      },
      "outputs": [],
      "source": [
        "# Word Piece Tokenizer 인스턴스 생성\n",
        "tokenizer = BertWordPieceTokenizer(\n",
        "    clean_text=True,\n",
        "    handle_chinese_chars=False,\n",
        "    strip_accents=False, # 악센트가 있는 character의 악센트를 제거하려면? (ex. é → e)\n",
        "    lowercase=False, # 한국어는 대소문자가 없는데 소문자 변환이 필요한지?\n",
        ")"
      ]
    },
    {
      "cell_type": "code",
      "execution_count": null,
      "metadata": {
        "ExecuteTime": {
          "end_time": "2022-02-08T15:07:44.027617Z",
          "start_time": "2022-02-08T15:06:26.871651Z"
        },
        "id": "d2XCyb-R7z73"
      },
      "outputs": [],
      "source": [
        "# train\n",
        "# files: 'processed_wiki_ko.txt'\n",
        "# vocab_size: 30,000\n",
        "# min_frequency: 2\n",
        "# special_tokens = [\"[PAD]\", \"[UNK]\", \"[CLS]\", \"[SEP]\", \"[MASK]\"]\n",
        "# limit_alphabet: 1,000\n",
        "# wordpieces_prefix: '##'\n",
        "\n",
        "tokenizer.train(\n",
        "    files = filepath,\n",
        "    vocab_size = 30000,\n",
        "    min_frequency = 2,\n",
        "    show_progress = True,\n",
        "    special_tokens = [\"[PAD]\", \"[UNK]\", \"[CLS]\", \"[SEP]\", \"[MASK]\"],\n",
        "    limit_alphabet = 1000,\n",
        "    wordpieces_prefix = '##',\n",
        ")"
      ]
    },
    {
      "cell_type": "code",
      "execution_count": null,
      "metadata": {
        "ExecuteTime": {
          "end_time": "2022-02-08T15:09:05.258756Z",
          "start_time": "2022-02-08T15:09:05.245393Z"
        },
        "id": "XP_TSZ4W7z74",
        "outputId": "e41d0aed-0bad-4140-b680-b61589dfa72b",
        "colab": {
          "base_uri": "https://localhost:8080/"
        }
      },
      "outputs": [
        {
          "output_type": "execute_result",
          "data": {
            "text/plain": [
              "['./wordpiece-vocab.txt']"
            ]
          },
          "metadata": {},
          "execution_count": 14
        }
      ],
      "source": [
        "tokenizer.save_model(\".\", \"wordpiece\")"
      ]
    },
    {
      "cell_type": "markdown",
      "metadata": {
        "id": "C44J9vSg7z74"
      },
      "source": [
        "### Encoding\n",
        "- 저장된 토크나이즈 파일을 로드해 `BertWordPieceTokenizer` 인스턴스를 생성하고 다음을 수행하자. \n",
        "    - 사전(vocab)의 단어 개수를 출력\n",
        "    - 문장을 토크나이징한 후 토큰 id와 토큰 string을 출력"
      ]
    },
    {
      "cell_type": "code",
      "execution_count": null,
      "metadata": {
        "id": "ipYjhaM05AGH"
      },
      "outputs": [],
      "source": [
        "tokenizer = BertWordPieceTokenizer(\n",
        "    vocab = \"/content/drive/MyDrive/[Wanted]week3-2/processed/wordpiece-vocab.txt\",\n",
        "    lowercase = False,\n",
        "    strip_accents = False,\n",
        ")"
      ]
    },
    {
      "cell_type": "code",
      "execution_count": null,
      "metadata": {
        "id": "q5MsfhF_5AGI",
        "outputId": "dbcdf3f3-8529-44e6-f5d5-db315d677ad2",
        "colab": {
          "base_uri": "https://localhost:8080/"
        }
      },
      "outputs": [
        {
          "output_type": "execute_result",
          "data": {
            "text/plain": [
              "30000"
            ]
          },
          "metadata": {},
          "execution_count": 16
        }
      ],
      "source": [
        "# 사전 단어 개수 출력\n",
        "tokenizer.get_vocab_size()"
      ]
    },
    {
      "cell_type": "code",
      "execution_count": null,
      "metadata": {
        "id": "Yp9kVECa5AGJ",
        "outputId": "2760269d-6624-4a5a-8ec5-350e73011fb4",
        "colab": {
          "base_uri": "https://localhost:8080/"
        }
      },
      "outputs": [
        {
          "output_type": "stream",
          "name": "stdout",
          "text": [
            "[2, 5590, 9522, 715, 11938, 28090, 3433, 5821, 16, 3]\n",
            "['[CLS]', '이제', '그만', '이', '곳을', '떠날', '예정', '##입니다', '.', '[SEP]']\n"
          ]
        }
      ],
      "source": [
        "text = \"이제 그만 이 곳을 떠날 예정입니다.\"\n",
        "\n",
        "# 토크나이즈한 후 토큰의 id를 출력하라 \n",
        "token_ids = tokenizer.encode(text).ids\n",
        "print(token_ids)\n",
        "\n",
        "# 토크나이즈한 후 각 토큰(string)을 출력하라.\n",
        "tokens = tokenizer.encode(text).tokens\n",
        "print(tokens)"
      ]
    },
    {
      "cell_type": "code",
      "execution_count": null,
      "metadata": {
        "ExecuteTime": {
          "end_time": "2022-02-08T15:12:06.621489Z",
          "start_time": "2022-02-08T15:12:06.618447Z"
        },
        "id": "mzrnMuSr7z74",
        "outputId": "22b13e73-641f-44a0-ba0b-e24640b41283",
        "colab": {
          "base_uri": "https://localhost:8080/"
        }
      },
      "outputs": [
        {
          "output_type": "stream",
          "name": "stdout",
          "text": [
            "['[CLS]', '존', '##맛', '##입니다', '[SEP]']\n"
          ]
        }
      ],
      "source": [
        "# 신조어를 토크나이징할 수 있는지 테스트해보자.\n",
        "text = \"존맛입니다\"\n",
        "tokens = tokenizer.encode(text).tokens\n",
        "print(tokens)"
      ]
    },
    {
      "cell_type": "code",
      "execution_count": null,
      "metadata": {
        "id": "ewQ4JTbR5AGM",
        "outputId": "7e1768f3-2313-40bb-f459-4e51613534f3",
        "colab": {
          "base_uri": "https://localhost:8080/"
        }
      },
      "outputs": [
        {
          "output_type": "stream",
          "name": "stdout",
          "text": [
            "[2, 1, 3]\n",
            "['[CLS]', '[UNK]', '[SEP]']\n"
          ]
        }
      ],
      "source": [
        "# 사전에 없는 단어는 어떻게 토크나이즈 되는가?\n",
        "text = \"숲튽훈\"\n",
        "unknown_token_ids = tokenizer.encode(text).ids # 토큰 id\n",
        "unknown_tokens = tokenizer.encode(text).tokens # 토큰\n",
        "print(unknown_token_ids)\n",
        "print(unknown_tokens)"
      ]
    },
    {
      "cell_type": "markdown",
      "metadata": {
        "id": "bgO1JJyM5AGN"
      },
      "source": [
        "### Decoding\n",
        "- 토큰 id를 원래 문장으로 디코딩하자."
      ]
    },
    {
      "cell_type": "code",
      "execution_count": null,
      "metadata": {
        "id": "ew4gUQ-F5AGN",
        "outputId": "4d162f74-d48b-4f7c-f496-f49084b1a99d",
        "colab": {
          "base_uri": "https://localhost:8080/",
          "height": 35
        }
      },
      "outputs": [
        {
          "output_type": "execute_result",
          "data": {
            "application/vnd.google.colaboratory.intrinsic+json": {
              "type": "string"
            },
            "text/plain": [
              "'이제 그만 이 곳을 떠날 예정입니다.'"
            ]
          },
          "metadata": {},
          "execution_count": 20
        }
      ],
      "source": [
        "# 원래 문장: \"이제 그만 이 곳을 떠날 예정입니다.\"\n",
        "tokenizer.decode(token_ids)"
      ]
    },
    {
      "cell_type": "code",
      "execution_count": null,
      "metadata": {
        "id": "F_5JG3PP5AGP",
        "outputId": "f5193ede-1a66-4640-f18d-b7f5be3682e6",
        "colab": {
          "base_uri": "https://localhost:8080/",
          "height": 35
        }
      },
      "outputs": [
        {
          "output_type": "execute_result",
          "data": {
            "application/vnd.google.colaboratory.intrinsic+json": {
              "type": "string"
            },
            "text/plain": [
              "''"
            ]
          },
          "metadata": {},
          "execution_count": 25
        }
      ],
      "source": [
        "# 사전에 없는 단어는 어떻게 디코딩되는가?\n",
        "tokenizer.decode(unknown_token_ids)"
      ]
    },
    {
      "cell_type": "code",
      "source": [
        ""
      ],
      "metadata": {
        "id": "rZh6kfOKg2b1"
      },
      "execution_count": null,
      "outputs": []
    }
  ],
  "metadata": {
    "accelerator": "GPU",
    "colab": {
      "name": "JesungRyu_Week3_2_assginment.ipynb",
      "provenance": [],
      "collapsed_sections": [],
      "machine_shape": "hm"
    },
    "kernelspec": {
      "display_name": "Python 3",
      "name": "python3"
    },
    "language_info": {
      "name": "python"
    }
  },
  "nbformat": 4,
  "nbformat_minor": 0
}